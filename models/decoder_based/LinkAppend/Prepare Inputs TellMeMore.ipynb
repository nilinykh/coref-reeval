{
 "cells": [
  {
   "cell_type": "code",
   "execution_count": 1,
   "id": "4432bfe8-541a-49c5-9804-d94db65924a7",
   "metadata": {},
   "outputs": [],
   "source": [
    "import glob\n",
    "import re\n",
    "import json\n",
    "import pandas as pd\n",
    "\n",
    "basepath = '/home/xilini/tell-me-more-coref/data/conllua-processed/'"
   ]
  },
  {
   "cell_type": "code",
   "execution_count": 2,
   "id": "927a18b6-169e-4656-81a6-fe1845e4872f",
   "metadata": {},
   "outputs": [],
   "source": [
    "parsed_files = glob.glob(basepath + '*.csv')"
   ]
  },
  {
   "cell_type": "code",
   "execution_count": 3,
   "id": "8602e772-cc74-42f9-a8e8-7dd3871fa434",
   "metadata": {},
   "outputs": [
    {
     "data": {
      "text/plain": [
       "537"
      ]
     },
     "execution_count": 3,
     "metadata": {},
     "output_type": "execute_result"
    }
   ],
   "source": [
    "len(parsed_files)"
   ]
  },
  {
   "cell_type": "code",
   "execution_count": 4,
   "id": "70af7fa3-9ef5-465f-8fab-0108e8dc02d0",
   "metadata": {},
   "outputs": [],
   "source": [
    "with open('../../../../../data/tmm_bugged_annotations.json', 'r') as bf:\n",
    "    bugged_files = json.load(bf)"
   ]
  },
  {
   "cell_type": "code",
   "execution_count": 5,
   "id": "57ac6896-3259-41c0-831b-4036711b5e8a",
   "metadata": {},
   "outputs": [],
   "source": [
    "toremove = []\n",
    "for file in bugged_files:\n",
    "    fileid = file.split('/')[-1].split('.conllua')[0]\n",
    "    annotator = file.split('/')[-3]\n",
    "    if annotator == 'annotator1':\n",
    "        annotator_type = 'ann1'\n",
    "    elif annotator == 'annotator2':\n",
    "        annotator_type = 'ann2'\n",
    "    filename = f'{basepath}/{annotator_type}-{fileid}.csv'\n",
    "    toremove.append(filename)\n",
    "for elem in parsed_files:\n",
    "    if elem in toremove:\n",
    "        print(elem)\n",
    "parsed_files = [elem for elem in parsed_files if elem not in toremove]"
   ]
  },
  {
   "cell_type": "code",
   "execution_count": 6,
   "id": "0032b204-a054-492d-b4f4-e11115f34837",
   "metadata": {},
   "outputs": [
    {
     "data": {
      "text/plain": [
       "537"
      ]
     },
     "execution_count": 6,
     "metadata": {},
     "output_type": "execute_result"
    }
   ],
   "source": [
    "len(parsed_files)"
   ]
  },
  {
   "cell_type": "code",
   "execution_count": 7,
   "id": "9396568e-6650-4b12-bc03-ea2e072d2528",
   "metadata": {},
   "outputs": [
    {
     "name": "stderr",
     "output_type": "stream",
     "text": [
      "100%|██████████████████████████████████████████████| 537/537 [00:00<00:00, 1182.20it/s]\n"
     ]
    }
   ],
   "source": [
    "import tqdm\n",
    "\n",
    "tmm_texts = []\n",
    "\n",
    "for file in tqdm.tqdm(parsed_files):\n",
    "\n",
    "    df = pd.read_csv(file)\n",
    "\n",
    "    sentences = []\n",
    "    current_sentence = []\n",
    "    for form in df['FORM']:\n",
    "        if pd.isna(form):\n",
    "            if current_sentence:\n",
    "                sentences.append(' '.join(current_sentence))\n",
    "                current_sentence = []\n",
    "        else:\n",
    "            current_sentence.append(form)\n",
    "    if current_sentence:\n",
    "        sentences.append(' '.join(current_sentence))\n",
    "\n",
    "    #print(sentences)\n",
    "    \n",
    "    processed_data = []\n",
    "    for i, sentence in enumerate(sentences, 1):\n",
    "        words = sentence.split()\n",
    "        tokens = [{'id': idx+1, 'text': word} for idx, word in enumerate(words)]\n",
    "        processed_data.append({\n",
    "            'id': i,\n",
    "            'speaker': None,\n",
    "            'text': sentence,\n",
    "            'tokens': tokens\n",
    "        })\n",
    "\n",
    "    text_dict = {}\n",
    "    text_dict['id'] = 'doc_' + str(file.split('/')[-1].split('.csv')[0])\n",
    "    text_dict['sentences'] = processed_data\n",
    "    text_dict['coref_chains'] = None\n",
    "    \n",
    "    tmm_texts.append(text_dict)"
   ]
  },
  {
   "cell_type": "code",
   "execution_count": 8,
   "id": "0eb7ad50-456c-41c7-92ca-f03cbb1f1e16",
   "metadata": {},
   "outputs": [],
   "source": [
    "import json\n",
    "with open('/home/xilini/tell-me-more-coref/run1/inputs_tmm_537.json', 'w') as f:\n",
    "    json.dump(tmm_texts, f)"
   ]
  },
  {
   "cell_type": "code",
   "execution_count": null,
   "id": "b9df2a77-23cc-4689-b9d6-9bad8b38879e",
   "metadata": {},
   "outputs": [],
   "source": []
  },
  {
   "cell_type": "code",
   "execution_count": null,
   "id": "eb70a7a7-f1ba-49c9-af70-8485c5885dbf",
   "metadata": {},
   "outputs": [],
   "source": []
  }
 ],
 "metadata": {
  "kernelspec": {
   "display_name": "linkappend_env",
   "language": "python",
   "name": "linkappend_env"
  },
  "language_info": {
   "codemirror_mode": {
    "name": "ipython",
    "version": 3
   },
   "file_extension": ".py",
   "mimetype": "text/x-python",
   "name": "python",
   "nbconvert_exporter": "python",
   "pygments_lexer": "ipython3",
   "version": "3.11.9"
  }
 },
 "nbformat": 4,
 "nbformat_minor": 5
}
